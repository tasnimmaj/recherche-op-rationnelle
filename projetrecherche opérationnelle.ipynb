{
  "nbformat": 4,
  "nbformat_minor": 0,
  "metadata": {
    "colab": {
      "provenance": []
    },
    "kernelspec": {
      "name": "python3",
      "display_name": "Python 3"
    },
    "language_info": {
      "name": "python"
    }
  },
  "cells": [
    {
      "cell_type": "markdown",
      "source": [
        "Titre de l'article : Hybrid Method for Modeling and Solving Supply Chain\n",
        "Optimization Problems with Soft and Logical Constraints\n",
        "\n",
        "Auteurs : Jacques Ferland\n",
        "\n",
        "Nom et Prénom : majoul tasnim\n",
        "\n",
        "Email : tasnim.majoul@essai.ucar.tn\n",
        "\n",
        "Téléphone : 93137775"
      ],
      "metadata": {
        "id": "Ehxq9lW62ViK"
      }
    },
    {
      "cell_type": "markdown",
      "source": [
        "# Introduction générale\n",
        "\n"
      ],
      "metadata": {
        "id": "haK0Sa7H21MB"
      }
    },
    {
      "cell_type": "markdown",
      "source": [
        "Cet article debute par une description de la gestion de la chaîne d'approvisionnement (SC) comme un système complexe impliquant les fabricants, les distributeurs, les réseaux de fournisseurs, les clients, les détaillants, les activités, les ressources et les informations dans le mouvement des services et des produits des fabricants aux clients."
      ],
      "metadata": {
        "id": "Xt-M021p3JnW"
      }
    },
    {
      "cell_type": "markdown",
      "source": [
        "Il souligne l’importance de considérer simultanément les problèmes de planification et de contrôle dans les ventes, la production et le transport pour améliorer l’efficacité des processus.  Cet article propose une méthode  pour modéliser et résoudre des problèmes d’optimisation de la chaîne d’approvisionnement en utilisant une approche multidimensionnelle. Nous décrivons également un modèle combinatoire transformé hybride avec différentes contraintes."
      ],
      "metadata": {
        "id": "_lrWC9SgWsfa"
      }
    },
    {
      "cell_type": "markdown",
      "source": [
        "\n",
        "Programmation Mathématique (MP) : se concentre sur la résolution efficace de contraintes linéaires et d'optimisation, mais présente des limitations pour les contraintes entières et logiques.\n",
        "\n",
        "Programmation par Contraintes (CLP) : offre une approche plus étendue en utilisant divers types de contraintes, y compris les contraintes entières, logiques et non linéaires.\n",
        "\n",
        "Méthode Hybride : combine les avantages de la MP et de la CLP,  offrant ainsi une approche puissante et flexible pour l'optimisation de la chaîne d'approvisionnement.\n",
        "\n",
        "\n",
        "\n",
        "\n",
        "\n",
        "\n"
      ],
      "metadata": {
        "id": "wyGkqb8x3iKg"
      }
    },
    {
      "cell_type": "markdown",
      "source": [
        "# 1. Formulation mathématique du PL\n",
        "\n",
        "\n",
        "\n",
        "\n",
        "\n"
      ],
      "metadata": {
        "id": "KNAi3mcI3J2U"
      }
    },
    {
      "cell_type": "markdown",
      "source": [
        "# Indice\n",
        "\\begin{align*}\n",
        "& d \\quad \\text{Produit (item) } (d=1 \\ldots D) \\\\\n",
        "& c \\quad \\text{Client/détaillant } (c=1 \\ldots C) \\\\\n",
        "& a \\quad \\text{Usine (fabricant) } (a=1 \\ldots A) \\\\\n",
        "& b \\quad \\text{Distributeur } (b=1 \\ldots B) \\\\\n",
        "& e \\quad \\text{Mode de transport } (e=1 \\ldots E) \\\\\n",
        "& A \\quad \\text{Nombre d'usines} \\\\\n",
        "& C \\quad \\text{Nombre de clients/détaillants} \\\\\n",
        "& B \\quad \\text{Nombre de distributeurs} \\\\\n",
        "& D \\quad \\text{Nombre d'articles} \\\\\n",
        "& E \\quad \\text{Nombre de modes de transport} \\\\\n",
        "\\end{align*}\n",
        "\n",
        "# Paramètres d'entrée\n",
        "- **F_b**: Coût du distributeur (fixe) pour le distributeur _b_\n",
        "- **P_d**: Volume/capacité occupé par l'article _d_\n",
        "- **T_d**: Poids de l'article _d_\n",
        "- **V_b**: Capacité/volume maximale du distributeur _b_\n",
        "- **W_a,d**: Capacité de production de l'usine _a_ pour l'article _d_\n",
        "- **C_a,d**: Coût de l'article _d_ dans l'usine _a_\n",
        "- **R_b,d**: Si le distributeur _b_ peut fournir l'article _d_, alors \\(R_{b,d} = 1\\); sinon \\(R_{b,d} = 0\\)\n",
        "- **Tp_b,d**: Temps nécessaire pour préparer l'expédition de l'article _d_ par le distributeur _b_\n",
        "- **Tc_c,d**: Délai de livraison de l'article _d_ au client/détaillant _c_\n",
        "- **Z_c,d**: Taille de la commande pour l'article _d_ passée par le client _c_\n",
        "- **Zt_e**: Nombre d'unités de transport utilisant le mode de transport _e_\n",
        "- **Pt_e**: Capacité de l'unité de transport utilisant le mode de transport _e_\n",
        "- **Tt_e**: Tonnage de l'unité de transport utilisant le mode de transport _e_\n",
        "- **Tf_a,b,e**: Temps d'approvisionnement de l'usine (fabricant) _a_ au distributeur _b_ par le mode de transport _e_\n",
        "- **K1_a,b,d,e**: Coût de fourniture de l'article _d_ de l'usine (fabricant) _a_ au distributeur _b_ par le mode de transport _e_ (variable)\n",
        "- **R1_a,b,e**: Si l'usine (fabricant) _a_ peut approvisionner le distributeur _b_ en utilisant le mode de transport _e_, alors \\(R1_{a,b,e} = 1\\); sinon \\(R1_{a,b,e} = 0\\)\n",
        "- **A_a,b,e**: Coût d'approvisionnement de l'usine (fabricant) _a_ au distributeur _b_ par le mode de transport _e_ (fixe)\n",
        "- **Tba_b,c,e**: Coût total d'approvisionnement du distributeur _b_ au client _c_ par le mode de transport _e_\n",
        "- **Tm_b,c,e**: Temps d'approvisionnement du distributeur _b_ au client/détaillant _c_ par le mode de transport _e_\n",
        "- **K2_b,c,d,e**: Coût variable d'approvisionnement de l'article _d_ du distributeur _b_ au client/détaillant _c_ par le mode de transport _e_\n",
        "- **R2_b,c,e**: Si le distributeur _b_ peut approvisionner le client/détaillant _c_ par le mode de transport _e_, alors \\(R2_{b,c,e} = 1\\); sinon \\(R2_{b,c,e} = 0\\)\n",
        "- **G_b,c,e**: Coût fixe d'approvisionnement du distributeur _b_ au client/détaillant _c_ par le mode de transport _e_\n",
        "- **Tbg_b,c,e**: Coût total d'approvisionnement du distributeur _b_ au client/détaillant _c_ par le mode de transport _e_\n",
        "- **Od_e**: Coût environnemental de l'utilisation du mode de transport _e_\n",
        "\n",
        "\n",
        "# variable de decisions\n",
        "<div align=\"center\">\n",
        "\n",
        "- **𝑋p𝑎,𝑏,𝑑,𝑒,𝑐** : Quantité d'un article 𝑑 fournie de l'usine (fabricant) 𝑎 au distributeur 𝑏 par le mode de transport 𝑒 au client/détaillant 𝑐.\n",
        "- **𝑋o𝑎,𝑏,𝑑,𝑒,𝑐** : Si la fourniture provient de l'usine (fabricant) 𝑎 au distributeur 𝑏 de l'article 𝑑 par le mode de transport 𝑒 au client/détaillant 𝑐, alors 𝑋o𝑎,𝑏,𝑑,𝑒,𝑐 = 1 ; sinon 𝑋o𝑎,𝑏,𝑑,𝑒,𝑐 = 0.\n",
        "- **𝑋c𝑎,𝑏,𝑒** : Nombre de trajets de l'usine (fabricant) 𝑎 au distributeur 𝑏 par le mode de transport 𝑒.\n",
        "- **𝑌p𝑏,𝑐,𝑑,𝑒** : Quantité de l'article 𝑑 fournie par le distributeur 𝑏 au client 𝑐 par le mode de transport 𝑒.\n",
        "- **𝑌o𝑏,𝑐,𝑑,𝑒** : Si la fourniture est du distributeur 𝑏 au client/détaillant 𝑐 pour l'article 𝑑 par le mode de transport 𝑒, alors 𝑌o𝑏,𝑐,𝑑,𝑒 = 1 ; sinon 𝑌o𝑏,𝑐,𝑑,𝑒 = 0.\n",
        "- **𝑌c𝑏,𝑐,𝑒** : Nombre de trajets du distributeur 𝑏 au client/détaillant 𝑐 par le mode de transport 𝑒.\n",
        "\n",
        "</div>\n",
        "\n",
        "\n"
      ],
      "metadata": {
        "id": "zMSyGGqDqGRP"
      }
    },
    {
      "cell_type": "markdown",
      "source": [
        "# *equations mathematiques*"
      ],
      "metadata": {
        "id": "B67tj3IEuedp"
      }
    },
    {
      "cell_type": "markdown",
      "source": [
        "Fonction Objectif des Modèles d'Optimisation.\n",
        "\n",
        "\\begin{equation}\n",
        "\\begin{aligned}\n",
        "&\\sum_{e=1}^{E} O_{de} \\left( \\sum_{b=1}^{B} \\sum_{c=1}^{C} Y_{b,c,e} + \\sum_{a=1}^{A} \\sum_{b=1}^{B} X_{a,b,e} \\right)\n",
        "&+ \\sum_{b=1}^{B} \\sum_{c=1}^{C} \\sum_{e=1}^{E} T_{bgb,c,e}\n",
        "&+ \\sum_{a=1}^{A} \\sum_{b=1}^{B} \\sum_{e=1}^{E} T_{ba,a,b,e}\n",
        "&+ \\sum_{a=1}^{A} \\sum_{d=1}^{D} \\left( C_{ad} \\cdot \\sum_{b=1}^{B} \\sum_{c=1}^{C} \\sum_{e=1}^{E} X_{pa,b,d,e,c,e} \\right)\n",
        "&+ \\sum_{b=1}^{B} F_b \\cdot T_{cb}\n",
        "\\end{aligned}\n",
        "\\end{equation}\n",
        "\n",
        " La fonction objectif détermine le coût total de la gestion de la chaîne d'approvisionnement. La première composante concerne les coûts environnementaux totaux (liés à l'utilisation de divers moyens de transport). Les coûts environnementaux dépendent de la taxe environnementale et au nombre de trajets effectués par les unités de transport. La deuxième composante détermine le coût de l'approvisionnement des usines vers les distributeurs. L'élément suivant est responsable des coûts liés à l'approvisionnement des distributeurs vers le client. Une autre composante spécifie le coût de production de l'article par l'usine donnée. Enfin, le dernier élément précise les coûts fixes associés aux activités et aux processus des distributeurs impliqués dans l'approvisionnement (chargement, déchargement, emballage, étiquetage, etc.).\n",
        "\n",
        "La formulation de la fonction objectif de cette manière permet une optimisation globale de tous les coûts dans divers aspects de la gestion de la chaîne d'approvisionnement."
      ],
      "metadata": {
        "id": "NInci8stVCUk"
      }
    },
    {
      "cell_type": "markdown",
      "source": [
        "----------------------------------------------------------------------------------------------------------------------------------------------------------------\n",
        " --------------------------------------------------------------------------------------------------------------------------------------------------"
      ],
      "metadata": {
        "id": "6fJgl_qeVhe-"
      }
    },
    {
      "cell_type": "markdown",
      "source": [
        "\\begin{equation}\n",
        "\\begin{aligned}\n",
        "& \\sum_{b=1}^{B}\\sum_{e=1}^{E} \\sum_{c=1}^{C} R_{b,d} \\cdot X_{p,a,b,d,e,c} \\leq W_{a,d} \\quad \\forall a = 1 \\ldots A, \\quad \\forall d = 1 \\ldots D \\quad (2)\n",
        "\\end{aligned}\n",
        "\\end{equation}\n",
        "La contrainte (2) stipule que toutes les fournitures de l'article produit 𝑑 par l'usine 𝑎 à tous les distributeurs 𝑏 par le mode de transport 𝑒 ne doivent pas dépasser la capacité de production de l'usine 𝑎\n",
        "\\begin{equation}\n",
        "\\begin{aligned}\n",
        "& \\sum_{b=1}^{B} \\sum_{e=1}^{E} (Y_{p,b,c,d,e} \\cdot R_{b,d}) = Z_{c,d} \\quad \\forall c = 1 \\ldots C, \\quad \\forall d = 1 \\ldots D \\quad (3)  \\\\\n",
        "\\text{ contrainte (3):} \\quad &\\text{La contrainte (3) garantit la couverture de toutes les commandes des clients/détaillants 𝑐 (𝑍𝑐,𝑑) pour l'article 𝑑 à la suite de l'approvisionnement par les distributeurs 𝑏.} \\, c \\, \\text{Cette contrainte s'assure que toutes les demandes des clients pour un produit spécifique sont satisfaites par l'approvisionnement provenant des distributeurs} \\\\\n",
        "\\end{aligned}\n",
        "\\end{equation}\n",
        "\\begin{equation}\n",
        "\\begin{aligned}\n",
        "& \\sum_{e=1}^{E} Y_{p,b,c,d,e} = \\sum_{a=1}^{A} \\sum_{e=1}^{E} X_{p,a,b,d,e,c} \\quad \\forall b = 1 \\ldots B, \\quad \\forall d = 1 \\ldots D, \\quad \\forall c = 1 \\ldots C \\quad (4) \\\\\n",
        "\\text{contrainte (4):} \\quad &\\text{Cette contrainte régit l'équilibre du flux des produits} \\, d \\, \\text{à travers le distributeur} \\, b. \\, \\text{Elle garantit que la quantité totale des produits distribués par le distributeur équivaut à la somme des quantités fournies par l'usine.} \\\\\n",
        "\\end{aligned}\n",
        "\\end{equation}\n",
        "\\begin{equation}\n",
        "\\begin{aligned}\n",
        "&D \\sum_{d=1} (P_d \\cdot A \\sum_{a=1}^{E} \\sum_{e=1}^{C} \\sum_{c=1}^{X_{p,a,b,d,e,c}}) \\leq T_{c,b} \\cdot V_b \\quad \\forall b = 1 \\ldots B \\quad (5) \\\\\n",
        "\\text{contrainte (5):} \\quad &\\text{Cette contrainte modélise la dépendance des capacités techniques du distributeur} \\, b \\, \\text{pour fournir un produit spécifique} \\, d. \\, \\text{Si} \\, R_{b,d} \\, \\text{est égal à 1, cela signifie que le distributeur} \\, b \\, \\text{peut fournir le produit} \\, d. \\\\\n",
        "\\end{aligned}\n",
        "\\end{equation}\n",
        "\\begin{equation}\n",
        "\\begin{aligned}\n",
        "&X_{o,a,b,d,e_1,c} \\cdot T_{f,a,b,e_1} + Y_{o,b,c,d,e_2} \\cdot T_{p,b,d} + Y_{o,b,c,d,e_2} \\cdot T_{m,b,c,e_2} \\leq T_{c,c} \\quad \\forall a = 1 \\ldots A, \\quad \\forall b = 1 \\ldots B, \\quad \\forall c = 1 \\ldots C, \\quad \\forall d = 1 \\ldots D, \\quad \\forall e_1, e_2 = 1 \\ldots E \\quad (6) \\\\\n",
        "\\text{contrainte (6):} \\quad &\\text{Cette contrainte garantit que les conditions de temps de livraison sont respectées, assurant ainsi que les produits sont expédiés dans les délais spécifiés.} \\\\\n",
        "\\end{aligned}\n",
        "\\end{equation}\n"
      ],
      "metadata": {
        "id": "TbNEo5SXzUSS"
      }
    },
    {
      "cell_type": "markdown",
      "source": [
        "\n",
        "\n",
        "\\begin{equation}\n",
        "\\begin{aligned}\n",
        "&R_{1,a,b,e} \\cdot X_{c,a,b,e} \\cdot Pt_e \\geq \\sum_{c=1}^{X_{p,a,b,d,e,c}} \\cdot P_d \\quad \\forall a = 1 \\ldots A, \\quad \\forall b = 1 \\ldots B, \\quad \\forall d = 1 \\ldots D, \\quad \\forall e = 1 \\ldots E \\quad (7) \\\\\n",
        "&R_{2,b,c,e} \\cdot Y_{c,b,e} \\cdot Pt_e \\geq Y_{p,b,c,d,e} \\cdot P_d \\quad \\forall b = 1 \\ldots B, \\quad \\forall c = 1 \\ldots C, \\quad \\forall d = 1 \\ldots D, \\quad \\forall e = 1 \\ldots E \\quad (8) \\\\\n",
        "&R_{aa,a,b,e} \\cdot X_{c,a,b,e} \\cdot Tt_e \\geq \\sum_{c=1}^{X_{p,a,b,d,e,c}} \\cdot Td \\quad \\forall a = 1 \\ldots A, \\quad \\forall b = 1 \\ldots B, \\quad \\forall d = 1 \\ldots D, \\quad \\forall e = 1 \\ldots E \\quad (9) \\\\\n",
        "&R_{bb,b,c,e} \\cdot Y_{c,b,e} \\cdot Tt_e \\geq Y_{p,b,c,d,e} \\cdot Td \\quad \\forall b = 1 \\ldots B, \\quad \\forall c = 1 \\ldots C, \\quad \\forall d = 1 \\ldots D, \\quad \\forall e = 1 \\ldots E \\quad (10)\n",
        "\\end{aligned}\n",
        "\\end{equation}\n",
        "\\begin{equation}\n",
        "\\begin{aligned}\n",
        "&A \\sum_{a=1}^{B} \\sum_{b=1}^{Xc_{a,b,e}} + C \\sum_{c=1}^{B} \\sum_{b=1}^{Y_{c,b,e}} \\leq Z_t^e \\quad \\forall e = 1 \\ldots E \\quad (11) \\\\\n",
        "&\\text{L'ensemble de contraintes de (7) à (11) détermine les moyens de transport nécessaires pour l'approvisionnement.} \\\\\n",
        "&A \\sum_{a=1}^{E} \\sum_{e=1}^{Xc_{a,b,e}} \\leq Cw_t \\cdot Tc_b \\quad \\forall b = 1 \\ldots B \\quad (12) \\\\\n",
        "&Xp_{a,b,d,e,c} \\leq Cw_t \\cdot Xo_{a,b,d,e,c} \\quad \\forall a = 1 \\ldots A, \\quad \\forall b = 1 \\ldots B, \\quad \\forall d = 1 \\ldots D, \\quad \\forall e = 1 \\ldots E, \\quad \\forall c = 1 \\ldots C \\quad (13) \\\\\n",
        "&Yp_{b,c,d,e} \\leq Cw_t \\cdot Yo_{b,c,d,e} \\quad \\forall b = 1 \\ldots B, \\quad \\forall c = 1 \\ldots C, \\quad \\forall d = 1 \\ldots D, \\quad \\forall e = 1 \\ldots E \\quad (14) \\\\\n",
        "&\\text{Les ensembles de contraintes (12), (13) et (14) fixent les valeurs des variables de décision 𝑋p𝑎,𝑏,𝑑,𝑒,𝑐 , 𝑌p𝑏,𝑐,𝑑,𝑒 , basées sur les variables binaires de décision 𝑇c𝑏 , 𝑋o𝑎,𝑏.} \\\\\n",
        "&Tba_{a,b,e} = Aa_{a,b,e} \\cdot Xc_{a,b,e} + D \\sum_{d=1}^{K1_{a,b,d,e}} \\cdot \\sum_{c=1}^{Xp_{a,b,d,e,c}} \\quad \\forall a = 1 \\ldots A, \\quad \\forall b = 1 \\ldots B, \\quad \\forall e = 1 \\ldots E \\quad (15) \\\\\n",
        "&Tbg_{b,c,e} = D \\sum_{d=1}^{K2_{b,c,d,e}} \\cdot Yp_{b,c,d,e} + G_{b,c,e} \\cdot Yc_{b,c,e} \\quad \\forall b = 1 \\ldots B, \\quad \\forall c = 1 \\ldots C, \\quad \\forall e = 1 \\ldots E \\quad (16)\n",
        "\\end{aligned}\n",
        "\\end{equation}\n",
        "\n",
        "\\begin{equation}\n",
        "\\begin{aligned}\n",
        "&Xp_{a,b,c,e,d} \\geq 0 \\quad \\forall a = 1 \\ldots A, \\quad \\forall b = 1 \\ldots B, \\quad \\forall c = 1 \\ldots C, \\quad \\forall e = 1 \\ldots E, \\quad \\forall d = 1 \\ldots D \\quad (17) \\\\\n",
        "&Xp_{a,b,c,e,d} \\in \\mathbb{R} \\quad \\forall a = 1 \\ldots A, \\quad \\forall b = 1 \\ldots B, \\quad \\forall c = 1 \\ldots C, \\quad \\forall e = 1 \\ldots E, \\quad \\forall d = 1 \\ldots D \\quad (18) \\\\\n",
        "&Xo_{a,b,c,e,d} \\in \\{0, 1\\} \\quad \\forall a = 1 \\ldots A, \\quad \\forall b = 1 \\ldots B, \\quad \\forall c = 1 \\ldots C, \\quad \\forall e = 1 \\ldots E, \\quad \\forall d = 1 \\ldots D \\quad (19) \\\\\n",
        "&Xc_{a,b,e} \\geq 0 \\quad \\forall a = 1 \\ldots A, \\quad \\forall b = 1 \\ldots B, \\quad \\forall e = 1 \\ldots E \\quad (20) \\\\\n",
        "&Xc_{a,b,e} \\in \\mathbb{R} \\quad \\forall a = 1 \\ldots A, \\quad \\forall b = 1 \\ldots B, \\quad \\forall e = 1 \\ldots E \\quad (21) \\\\\n",
        "&Yp_{b,c,d,e} \\geq 0 \\quad \\forall b = 1 \\ldots B, \\quad \\forall c = 1 \\ldots C, \\quad \\forall d = 1 \\ldots D, \\quad \\forall e = 1 \\ldots E \\quad (22) \\\\\n",
        "&Yp_{b,c,d,e} \\in \\mathbb{R} \\quad \\forall b = 1 \\ldots B, \\quad \\forall c = 1 \\ldots C, \\quad \\forall d = 1 \\ldots D, \\quad \\forall e = 1 \\ldots E \\quad (23) \\\\\n",
        "&Yo_{b,c,d,e} \\in \\{0, 1\\} \\quad \\forall b = 1 \\ldots B, \\quad \\forall c = 1 \\ldots C, \\quad \\forall d = 1 \\ldots D, \\quad \\forall e = 1 \\ldots E \\quad (24)\n",
        "\\end{aligned}\n",
        "\\end{equation}\n",
        "\n",
        "\n",
        "\n",
        "\n",
        "\n"
      ],
      "metadata": {
        "id": "92s4p4GhIgDv"
      }
    },
    {
      "cell_type": "markdown",
      "source": [
        "\\begin{equation}\n",
        "\\begin{aligned}\n",
        "&Yc_{b,c,e} \\geq 0 \\quad \\forall b = 1 \\ldots B, \\quad \\forall c = 1 \\ldots C, \\quad \\forall e = 1 \\ldots E \\quad (25)\n",
        "\\end{aligned}\n",
        "\\end{equation}\n",
        "\n",
        "\\begin{equation}\n",
        "\\begin{aligned}\n",
        "&Yc_{b,c,e} \\in \\mathbb{R} \\quad \\forall b = 1 \\ldots B, \\quad \\forall c = 1 \\ldots C, \\quad \\forall e = 1 \\ldots E \\quad (26)\n",
        "\\end{aligned}\n",
        "\\end{equation}\n",
        "\n",
        "\\begin{equation}\n",
        "\\begin{aligned}\n",
        "&Tc_{b} \\in \\{0, 1\\} \\quad \\forall b = 1 \\ldots B \\quad (27)\n",
        "\\end{aligned}\n",
        "\\end{equation}\n",
        "Le reste de l'ensemble de contraintes (17)–(27) résulte de la nature du modèle de programmation mathématique et couvre divers aspects du problème d'optimisation de la chaîne d'approvisionnement.\n",
        "\\begin{equation}\n",
        "\\begin{aligned}\n",
        "&\\text{LogicS}(d, b_1, b_2) \\quad \\forall d \\in 1 \\ldots D, \\quad \\forall b_1, b_2 \\in 1 \\ldots B, \\quad b_1 \\neq b_2 \\quad (28)\n",
        "\\end{aligned}\n",
        "\\end{equation}\n",
        "La contrainte (28) exclut le transport d'un produit sélectionné 𝑑 par différents moyens de transport 𝑒1, 𝑒2,...,𝑒𝑖. Elle interdit la combinaison de modes de transport pour un même produit.\n",
        "\\begin{equation}\n",
        "\\begin{aligned}\n",
        "&\\text{LogicS}_n(d_1, \\ldots, d_i, b, B_n) \\quad \\forall d_1, d_2, \\ldots, d_i \\in 1 \\ldots D, \\quad \\forall b \\in 1 \\ldots B, \\quad d_i \\neq d_j \\quad (29)\n",
        "\\end{aligned}\n",
        "\\end{equation}\n",
        "La contrainte (29) garantit qu'un groupe de produits 𝑑1, 𝑑2,...,𝑑𝑖 ne peut pas être stocké dans plus de 𝐵𝑛 centres simultanément. Elle limite la simultanéité du stockage de plusieurs produits dans les centres de distribution.\n",
        "\\begin{equation}\n",
        "\\begin{aligned}\n",
        "&\\text{LogicExl}(d_1, d_2, b, a, e) \\quad \\forall d_1, d_2 \\in 1 \\ldots D, \\quad \\forall b \\in 1 \\ldots B, \\quad \\forall a \\in 1 \\ldots A, \\quad \\forall e \\in 1 \\ldots E, \\quad d_1 \\neq d_2 \\quad (30)\n",
        "\\end{aligned}\n",
        "\\end{equation}\n",
        "La contrainte (30) exclut la production, la distribution et le transport simultanés de certains produits sélectionnés 𝑑1 et 𝑑2. Elle impose des restrictions sur les opérations simultanées de certains produits pour des raisons logistiques et pratiques."
      ],
      "metadata": {
        "id": "KsFNMcVvSoxZ"
      }
    },
    {
      "cell_type": "markdown",
      "source": [
        "# 2. Résolution du PL"
      ],
      "metadata": {
        "id": "2ZG67QhB4Itl"
      }
    },
    {
      "cell_type": "code",
      "source": [
        "import numpy as np\n",
        "from scipy.optimize import linprog\n"
      ],
      "metadata": {
        "id": "bmPiISax3pOf"
      },
      "execution_count": null,
      "outputs": []
    },
    {
      "cell_type": "code",
      "source": [
        "import random\n",
        "random.seed(234)\n"
      ],
      "metadata": {
        "id": "601zjOmB4Onh"
      },
      "execution_count": null,
      "outputs": []
    },
    {
      "cell_type": "code",
      "source": [
        "!pip install pulp\n"
      ],
      "metadata": {
        "colab": {
          "base_uri": "https://localhost:8080/"
        },
        "id": "iXN02aHw_XGb",
        "outputId": "174655b0-ba7e-4785-9577-54b0081320f2"
      },
      "execution_count": null,
      "outputs": [
        {
          "output_type": "stream",
          "name": "stdout",
          "text": [
            "Collecting pulp\n",
            "  Downloading PuLP-2.7.0-py3-none-any.whl (14.3 MB)\n",
            "\u001b[2K     \u001b[90m━━━━━━━━━━━━━━━━━━━━━━━━━━━━━━━━━━━━━━━━\u001b[0m \u001b[32m14.3/14.3 MB\u001b[0m \u001b[31m65.7 MB/s\u001b[0m eta \u001b[36m0:00:00\u001b[0m\n",
            "\u001b[?25hInstalling collected packages: pulp\n",
            "Successfully installed pulp-2.7.0\n"
          ]
        }
      ]
    },
    {
      "cell_type": "markdown",
      "source": [
        "# 1ere contrainte"
      ],
      "metadata": {
        "id": "E_3zhnRrgywM"
      }
    },
    {
      "cell_type": "code",
      "source": [
        "from pulp import LpProblem, LpMinimize, LpVariable, lpSum\n"
      ],
      "metadata": {
        "id": "dQoVLHX6-roa"
      },
      "execution_count": null,
      "outputs": []
    },
    {
      "cell_type": "markdown",
      "source": [
        "\\begin{equation}\n",
        "\\begin{aligned}\n",
        "&\\sum_{e=1}^{E} O_{de} \\left( \\sum_{b=1}^{B} \\sum_{c=1}^{C} Y_{b,c,e} + \\sum_{a=1}^{A} \\sum_{b=1}^{B} X_{a,b,e} \\right)\n",
        "&+ \\sum_{b=1}^{B} \\sum_{c=1}^{C} \\sum_{e=1}^{E} T_{bgb,c,e}\n",
        "&+ \\sum_{a=1}^{A} \\sum_{b=1}^{B} \\sum_{e=1}^{E} T_{ba,a,b,e}\n",
        "&+ \\sum_{a=1}^{A} \\sum_{d=1}^{D} \\left( C_{ad} \\cdot \\sum_{b=1}^{B} \\sum_{c=1}^{C} \\sum_{e=1}^{E} X_{pa,b,d,e,c,e} \\right)\n",
        "&+ \\sum_{b=1}^{B} F_b \\cdot T_{cb}\n",
        "\\end{aligned}\n",
        "\\end{equation}\n"
      ],
      "metadata": {
        "id": "HvnXFT52qpp1"
      }
    },
    {
      "cell_type": "code",
      "source": [
        "\n",
        "# Create placeholder matrices (replace with actual data)\n",
        "\n",
        "Y = np.random.rand(C, B, E)\n",
        "X = np.random.rand(A, B, E)\n",
        "Tbg = np.random.rand(B, C, E)\n",
        "Tba = np.random.rand(A, B, E)\n",
        "Ca_d = np.random.rand(C, D)\n",
        "Xp = np.random.rand(A, B, D, E, C)\n",
        "Fb = np.random.rand(F)\n",
        "Tc = np.random.rand(B)"
      ],
      "metadata": {
        "id": "Y_1XQGBp4Oum"
      },
      "execution_count": null,
      "outputs": []
    },
    {
      "cell_type": "code",
      "source": [
        "# Define the dimensions of your problem\n",
        "A = 2\n",
        "B = 4\n",
        "C = 7\n",
        "D = 3\n",
        "E = 4\n",
        "F = 7\n"
      ],
      "metadata": {
        "id": "t1dtuc894OrN"
      },
      "execution_count": null,
      "outputs": []
    },
    {
      "cell_type": "code",
      "source": [
        "import numpy as np\n",
        "\n",
        "# Initialize the result variable\n",
        "result = 0\n",
        "\n",
        "# Summation for the given expression\n",
        "for e in range(1, E + 1):\n",
        "    for b in range(1, B + 1):\n",
        "        for c in range(1, C + 1):\n",
        "            if 0 <= c-1 < Y.shape[0] and 0 <= b-1 < Y.shape[1] and 0 <= e-1 < Y.shape[2]:\n",
        "                result += Y[c-1, b-1, e-1]\n",
        "            if 0 <= b-1 < X.shape[1] and 0 <= e-1 < X.shape[2]:\n",
        "                result += np.sum(X[:, b-1, e-1])\n",
        "            if 0 <= b-1 < Tbg.shape[0] and 0 <= c-1 < Tbg.shape[1] and 0 <= e-1 < Tbg.shape[2]:\n",
        "                result += Tbg[b-1, c-1, e-1]\n",
        "\n",
        "        for a in range(1, A + 1):\n",
        "            if 0 <= b-1 < X.shape[1] and 0 <= e-1 < X.shape[2]:\n",
        "                result += np.sum(X[a-1, b-1, e-1])\n",
        "            if 0 <= b-1 < Tba.shape[1] and 0 <= e-1 < Tba.shape[2]:\n",
        "                result += Tba[a-1, b-1, e-1]\n",
        "\n",
        "for d in range(1, D + 1):\n",
        "    for a in range(1, A + 1):\n",
        "        for b in range(1, B + 1):\n",
        "            for c in range(1, C + 1):\n",
        "                if (\n",
        "                    0 <= a-1 < Ca_d.shape[0] and\n",
        "                    0 <= d-1 < Ca_d.shape[1] and\n",
        "                    0 <= b-1 < Xp.shape[1] and\n",
        "                    0 <= d-1 < Xp.shape[2] and\n",
        "                    0 <= e-1 < Xp.shape[3] and\n",
        "                    0 <= c-1 < Xp.shape[4]\n",
        "                ):\n",
        "                    result += Ca_d[a-1, d-1] * np.sum(Xp[a-1, b-1, d-1, :, c-1])\n",
        "\n"
      ],
      "metadata": {
        "id": "k6JVA2DCg5ON"
      },
      "execution_count": null,
      "outputs": []
    },
    {
      "cell_type": "code",
      "source": [
        "# Add the last term\n",
        "result += np.sum(Fb[:B] * Tc[:B])\n",
        "\n",
        "# Print the final result\n",
        "print(result)\n",
        "\n"
      ],
      "metadata": {
        "colab": {
          "base_uri": "https://localhost:8080/"
        },
        "id": "JU3og5t6Npd5",
        "outputId": "92d11fca-7e9b-4b9f-f8d4-9b151043ae5e"
      },
      "execution_count": null,
      "outputs": [
        {
          "output_type": "stream",
          "name": "stdout",
          "text": [
            "217.32670431721758\n"
          ]
        }
      ]
    },
    {
      "cell_type": "markdown",
      "source": [
        "# 2eme contrainte"
      ],
      "metadata": {
        "id": "gYWovHdqg2z9"
      }
    },
    {
      "cell_type": "markdown",
      "source": [
        "\\begin{equation}\n",
        "\\begin{aligned}\n",
        "& \\sum_{b=1}^{B}\\sum_{e=1}^{E} \\sum_{c=1}^{C} R_{b,d} \\cdot X_{p,a,b,d,e,c} \\leq W_{a,d} \\quad \\forall a = 1 \\ldots A, \\quad \\forall d = 1 \\ldots D \\quad (2)\n",
        "\\end{aligned}\n",
        "\\end{equation}\n",
        "\n",
        "cette contrainte stipule que toutes les fournitures de l'article produit 𝑑 par l'usine 𝑎 à tous les distributeurs 𝑏 par le mode de transport 𝑒 ne doivent pas dépasser la capacité de production de l'usine 𝑎"
      ],
      "metadata": {
        "id": "7BHArrfzwD6J"
      }
    },
    {
      "cell_type": "code",
      "source": [
        "\n",
        "# Initialize W with specific values to ensure a solution\n",
        "W = np.zeros((A, D))\n",
        "W[0, 0] = np.sum(R) * np.sum(Xp[0, :, 0, :, :])\n",
        "W[1, 1] = np.sum(R) * np.sum(Xp[1, :, 1, :, :])\n",
        "\n",
        "# Check the condition for each combination of a and d\n",
        "for a in range(1, A + 1):\n",
        "    for d in range(1, D + 1):\n",
        "        total_sum = 0\n",
        "\n",
        "        # Perform the summation for the given expression\n",
        "        for b in range(1, B + 1):\n",
        "            for e in range(1, E + 1):\n",
        "                for c in range(1, C + 1):\n",
        "                    total_sum += R[b-1, d-1] * Xp[a-1, b-1, d-1, e-1, c-1]\n",
        "\n",
        "        # Check the condition\n",
        "        if total_sum <= W[a-1, d-1]:\n",
        "            print(f\"Condition satisfied for a={a}, d={d}\")\n",
        "        else:\n",
        "            print(f\"Condition NOT satisfied for a={a}, d={d}\")\n",
        "\n",
        "print(\"W matrix:\")\n",
        "print(W)\n"
      ],
      "metadata": {
        "colab": {
          "base_uri": "https://localhost:8080/"
        },
        "id": "j2flRl2pjS6U",
        "outputId": "53ed811d-bb2a-40d3-e560-ee061eab6198"
      },
      "execution_count": null,
      "outputs": [
        {
          "output_type": "stream",
          "name": "stdout",
          "text": [
            "Condition satisfied for a=1, d=1\n",
            "Condition NOT satisfied for a=1, d=2\n",
            "Condition NOT satisfied for a=1, d=3\n",
            "Condition NOT satisfied for a=2, d=1\n",
            "Condition satisfied for a=2, d=2\n",
            "Condition NOT satisfied for a=2, d=3\n",
            "W matrix:\n",
            "[[225.3039892    0.           0.        ]\n",
            " [  0.         271.14558363   0.        ]]\n"
          ]
        }
      ]
    },
    {
      "cell_type": "code",
      "source": [
        "\n",
        "# Initialize Tc and V with specific values to ensure a solution\n",
        "Tc = np.zeros(B)\n",
        "V = np.zeros(B)\n",
        "\n",
        "# Set specific values to ensure the condition is satisfied for at least one b\n",
        "target_b = 3  # Adjust this value based on your requirements\n",
        "\n",
        "# Set Tc and V to satisfy the condition for the target_b\n",
        "total_sum_target_b = 0\n",
        "for d in range(1, D + 1):\n",
        "    for a in range(1, A + 1):\n",
        "        for e in range(1, E + 1):\n",
        "            for c in range(1, C + 1):\n",
        "                total_sum_target_b += P[d-1] * Xp[a-1, target_b-1, d-1, e-1, c-1]\n",
        "\n",
        "# Set Tc and V based on the total_sum for the target_b\n",
        "Tc[target_b-1] = 2 * total_sum_target_b  # Adjust this value based on your requirements\n",
        "V[target_b-1] = 1  # Adjust this value based on your requirements\n",
        "\n",
        "# Check the condition for each b\n",
        "for b in range(1, B + 1):\n",
        "    total_sum = 0\n",
        "\n",
        "    # Perform the summation for the given expression\n",
        "    for d in range(1, D + 1):\n",
        "        for a in range(1, A + 1):\n",
        "            for e in range(1, E + 1):\n",
        "                for c in range(1, C + 1):\n",
        "                    total_sum += P[d-1] * Xp[a-1, b-1, d-1, e-1, c-1]\n",
        "\n",
        "    # Check the condition\n",
        "    if total_sum <= Tc[b-1] * V[b-1]:\n",
        "        print(f\"Condition satisfied for b={b}\")\n",
        "    else:\n",
        "        print(f\"Condition NOT satisfied for b={b}\")\n",
        "\n",
        "print(\"Tc matrix:\")\n",
        "print(Tc)\n",
        "print(\"V matrix:\")\n",
        "print(V)\n"
      ],
      "metadata": {
        "colab": {
          "base_uri": "https://localhost:8080/"
        },
        "id": "Chk6IAMGmBJQ",
        "outputId": "96a9e47c-29ad-4775-9e18-e6d90d958293"
      },
      "execution_count": null,
      "outputs": [
        {
          "output_type": "stream",
          "name": "stdout",
          "text": [
            "Condition NOT satisfied for b=1\n",
            "Condition NOT satisfied for b=2\n",
            "Condition satisfied for b=3\n",
            "Condition NOT satisfied for b=4\n",
            "Tc matrix:\n",
            "[  0.           0.         101.41054247   0.        ]\n",
            "V matrix:\n",
            "[0. 0. 1. 0.]\n"
          ]
        }
      ]
    },
    {
      "cell_type": "markdown",
      "source": [
        "# 3eme contrainte"
      ],
      "metadata": {
        "id": "M9T5TzX6wGjm"
      }
    },
    {
      "cell_type": "markdown",
      "source": [
        "\\begin{equation}\n",
        "\\begin{aligned}\n",
        "& \\sum_{b=1}^{B} \\sum_{e=1}^{E} (Y_{p,b,c,d,e} \\cdot R_{b,d}) = Z_{c,d} \\quad \\forall c = 1 \\ldots C, \\quad \\forall d = 1 \\ldots D \\quad (3)  \\\\\n",
        "\\end{aligned}\n",
        "\\end{equation}\n",
        "\n",
        "avec 𝑍𝑐,𝑑\n",
        "La taille de la commande pour l'article de produit 𝑑 passée par le client 𝑐\n",
        "\n",
        "\n",
        "cette contrainte garantit la couverture de toutes les commandes des clients/détaillants 𝑐 (𝑍𝑐,𝑑) pour l'article 𝑑 à la suite de l'approvisionnement par les distributeurs 𝑏"
      ],
      "metadata": {
        "id": "Dno60Ob3wJ3W"
      }
    },
    {
      "cell_type": "code",
      "source": [
        "from pulp import LpProblem, LpVariable, lpSum, LpMaximize, LpStatus\n",
        "\n",
        "\n",
        "# Définir la valeur de R_bd variable binaire\n",
        "R = LpVariable.dicts(\"R\", ((b, d) for b in range(1, B+1) for d in range(1, D+1)), 0, 1, LpVariable)\n",
        "\n",
        "# Créer un problème d'optimisation linéaire\n",
        "prob = LpProblem(\"MonProbleme\", LpMaximize)\n",
        "\n",
        "# Déclarer les variables de décision Y et Z\n",
        "Y = LpVariable.dicts(\"Y\", ((b, c, d, e) for b in range(1, B+1) for c in range(1, C+1) for d in range(1, D+1) for e in range(1, E+1)), 0, 1, LpVariable)\n",
        "Z = LpVariable.dicts(\"Z\", ((c, d) for c in range(1, C+1) for d in range(1, D+1)), 0, None, LpVariable)\n",
        "\n",
        "# Définir la fonction objectif (non nécessaire pour cette contrainte)\n",
        "prob += lpSum(Y[(b, c, d, e)] for b in range(1, B+1) for c in range(1, C+1) for d in range(1, D+1) for e in range(1, E+1))\n",
        "\n",
        "# Définir la contrainte\n",
        "for c in range(1, C+1):\n",
        "    for d in range(1, D+1):\n",
        "        prob += lpSum(Y[(b, c, d, e)] * R_bd for b in range(1, B+1) for e in range(1, E+1)) == Z[(c, d)]\n",
        "\n",
        "# Résoudre le problème\n",
        "prob.solve()\n",
        "\n",
        "# Afficher le résultat\n",
        "print(f\"Status: {LpStatus[prob.status]}\")\n",
        "print(f\"Valeur optimale de la fonction objectif : {prob.objective.value()}\")\n",
        "\n",
        "# Afficher les valeurs des variables de décision\n",
        "for var in prob.variables():\n",
        "    print(f\"{var.name} = {var.value()}\")\n"
      ],
      "metadata": {
        "colab": {
          "base_uri": "https://localhost:8080/"
        },
        "id": "QEfyj6GzCXY3",
        "outputId": "b8154c7d-6e23-47e1-93c5-19890f187e3e"
      },
      "execution_count": null,
      "outputs": [
        {
          "output_type": "stream",
          "name": "stdout",
          "text": [
            "Status: Optimal\n",
            "Valeur optimale de la fonction objectif : 120.0\n",
            "Y_(1,_1,_1,_1) = 1.0\n",
            "Y_(1,_1,_1,_2) = 1.0\n",
            "Y_(1,_1,_2,_1) = 1.0\n",
            "Y_(1,_1,_2,_2) = 1.0\n",
            "Y_(1,_1,_3,_1) = 1.0\n",
            "Y_(1,_1,_3,_2) = 1.0\n",
            "Y_(1,_1,_4,_1) = 1.0\n",
            "Y_(1,_1,_4,_2) = 1.0\n",
            "Y_(1,_2,_1,_1) = 1.0\n",
            "Y_(1,_2,_1,_2) = 1.0\n",
            "Y_(1,_2,_2,_1) = 1.0\n",
            "Y_(1,_2,_2,_2) = 1.0\n",
            "Y_(1,_2,_3,_1) = 1.0\n",
            "Y_(1,_2,_3,_2) = 1.0\n",
            "Y_(1,_2,_4,_1) = 1.0\n",
            "Y_(1,_2,_4,_2) = 1.0\n",
            "Y_(1,_3,_1,_1) = 1.0\n",
            "Y_(1,_3,_1,_2) = 1.0\n",
            "Y_(1,_3,_2,_1) = 1.0\n",
            "Y_(1,_3,_2,_2) = 1.0\n",
            "Y_(1,_3,_3,_1) = 1.0\n",
            "Y_(1,_3,_3,_2) = 1.0\n",
            "Y_(1,_3,_4,_1) = 1.0\n",
            "Y_(1,_3,_4,_2) = 1.0\n",
            "Y_(2,_1,_1,_1) = 1.0\n",
            "Y_(2,_1,_1,_2) = 1.0\n",
            "Y_(2,_1,_2,_1) = 1.0\n",
            "Y_(2,_1,_2,_2) = 1.0\n",
            "Y_(2,_1,_3,_1) = 1.0\n",
            "Y_(2,_1,_3,_2) = 1.0\n",
            "Y_(2,_1,_4,_1) = 1.0\n",
            "Y_(2,_1,_4,_2) = 1.0\n",
            "Y_(2,_2,_1,_1) = 1.0\n",
            "Y_(2,_2,_1,_2) = 1.0\n",
            "Y_(2,_2,_2,_1) = 1.0\n",
            "Y_(2,_2,_2,_2) = 1.0\n",
            "Y_(2,_2,_3,_1) = 1.0\n",
            "Y_(2,_2,_3,_2) = 1.0\n",
            "Y_(2,_2,_4,_1) = 1.0\n",
            "Y_(2,_2,_4,_2) = 1.0\n",
            "Y_(2,_3,_1,_1) = 1.0\n",
            "Y_(2,_3,_1,_2) = 1.0\n",
            "Y_(2,_3,_2,_1) = 1.0\n",
            "Y_(2,_3,_2,_2) = 1.0\n",
            "Y_(2,_3,_3,_1) = 1.0\n",
            "Y_(2,_3,_3,_2) = 1.0\n",
            "Y_(2,_3,_4,_1) = 1.0\n",
            "Y_(2,_3,_4,_2) = 1.0\n",
            "Y_(3,_1,_1,_1) = 1.0\n",
            "Y_(3,_1,_1,_2) = 1.0\n",
            "Y_(3,_1,_2,_1) = 1.0\n",
            "Y_(3,_1,_2,_2) = 1.0\n",
            "Y_(3,_1,_3,_1) = 1.0\n",
            "Y_(3,_1,_3,_2) = 1.0\n",
            "Y_(3,_1,_4,_1) = 1.0\n",
            "Y_(3,_1,_4,_2) = 1.0\n",
            "Y_(3,_2,_1,_1) = 1.0\n",
            "Y_(3,_2,_1,_2) = 1.0\n",
            "Y_(3,_2,_2,_1) = 1.0\n",
            "Y_(3,_2,_2,_2) = 1.0\n",
            "Y_(3,_2,_3,_1) = 1.0\n",
            "Y_(3,_2,_3,_2) = 1.0\n",
            "Y_(3,_2,_4,_1) = 1.0\n",
            "Y_(3,_2,_4,_2) = 1.0\n",
            "Y_(3,_3,_1,_1) = 1.0\n",
            "Y_(3,_3,_1,_2) = 1.0\n",
            "Y_(3,_3,_2,_1) = 1.0\n",
            "Y_(3,_3,_2,_2) = 1.0\n",
            "Y_(3,_3,_3,_1) = 1.0\n",
            "Y_(3,_3,_3,_2) = 1.0\n",
            "Y_(3,_3,_4,_1) = 1.0\n",
            "Y_(3,_3,_4,_2) = 1.0\n",
            "Y_(4,_1,_1,_1) = 1.0\n",
            "Y_(4,_1,_1,_2) = 1.0\n",
            "Y_(4,_1,_2,_1) = 1.0\n",
            "Y_(4,_1,_2,_2) = 1.0\n",
            "Y_(4,_1,_3,_1) = 1.0\n",
            "Y_(4,_1,_3,_2) = 1.0\n",
            "Y_(4,_1,_4,_1) = 1.0\n",
            "Y_(4,_1,_4,_2) = 1.0\n",
            "Y_(4,_2,_1,_1) = 1.0\n",
            "Y_(4,_2,_1,_2) = 1.0\n",
            "Y_(4,_2,_2,_1) = 1.0\n",
            "Y_(4,_2,_2,_2) = 1.0\n",
            "Y_(4,_2,_3,_1) = 1.0\n",
            "Y_(4,_2,_3,_2) = 1.0\n",
            "Y_(4,_2,_4,_1) = 1.0\n",
            "Y_(4,_2,_4,_2) = 1.0\n",
            "Y_(4,_3,_1,_1) = 1.0\n",
            "Y_(4,_3,_1,_2) = 1.0\n",
            "Y_(4,_3,_2,_1) = 1.0\n",
            "Y_(4,_3,_2,_2) = 1.0\n",
            "Y_(4,_3,_3,_1) = 1.0\n",
            "Y_(4,_3,_3,_2) = 1.0\n",
            "Y_(4,_3,_4,_1) = 1.0\n",
            "Y_(4,_3,_4,_2) = 1.0\n",
            "Y_(5,_1,_1,_1) = 1.0\n",
            "Y_(5,_1,_1,_2) = 1.0\n",
            "Y_(5,_1,_2,_1) = 1.0\n",
            "Y_(5,_1,_2,_2) = 1.0\n",
            "Y_(5,_1,_3,_1) = 1.0\n",
            "Y_(5,_1,_3,_2) = 1.0\n",
            "Y_(5,_1,_4,_1) = 1.0\n",
            "Y_(5,_1,_4,_2) = 1.0\n",
            "Y_(5,_2,_1,_1) = 1.0\n",
            "Y_(5,_2,_1,_2) = 1.0\n",
            "Y_(5,_2,_2,_1) = 1.0\n",
            "Y_(5,_2,_2,_2) = 1.0\n",
            "Y_(5,_2,_3,_1) = 1.0\n",
            "Y_(5,_2,_3,_2) = 1.0\n",
            "Y_(5,_2,_4,_1) = 1.0\n",
            "Y_(5,_2,_4,_2) = 1.0\n",
            "Y_(5,_3,_1,_1) = 1.0\n",
            "Y_(5,_3,_1,_2) = 1.0\n",
            "Y_(5,_3,_2,_1) = 1.0\n",
            "Y_(5,_3,_2,_2) = 1.0\n",
            "Y_(5,_3,_3,_1) = 1.0\n",
            "Y_(5,_3,_3,_2) = 1.0\n",
            "Y_(5,_3,_4,_1) = 1.0\n",
            "Y_(5,_3,_4,_2) = 1.0\n",
            "Z_(1,_1) = 100.0\n",
            "Z_(1,_2) = 100.0\n",
            "Z_(1,_3) = 100.0\n",
            "Z_(1,_4) = 100.0\n",
            "Z_(2,_1) = 100.0\n",
            "Z_(2,_2) = 100.0\n",
            "Z_(2,_3) = 100.0\n",
            "Z_(2,_4) = 100.0\n",
            "Z_(3,_1) = 100.0\n",
            "Z_(3,_2) = 100.0\n",
            "Z_(3,_3) = 100.0\n",
            "Z_(3,_4) = 100.0\n"
          ]
        }
      ]
    },
    {
      "cell_type": "markdown",
      "source": [
        "# Conclusion générale"
      ],
      "metadata": {
        "id": "CHUv1feQ4hsV"
      }
    },
    {
      "cell_type": "markdown",
      "source": [
        "En guise de conclusion , cette recherche ouvre la voie à de nouvelles perspectives en matière de modélisation et d'optimisation des chaînes d'approvisionnement, mettant en lumière  sur l'importance des méthodes déclaratives dans le domaine.\n",
        "Des recherches futures pourraient explorer davantage l'application de ces approches à des contextes spécifiques de l'industrie, ainsi que des extensions potentielles pour améliorer encore la performance etde ces modèles. En définitive, cette étude contribue de manière significative à l'avancement des méthodes d'optimisation dans le domaine complexe de la gestion des chaînes d'approvisionnement."
      ],
      "metadata": {
        "id": "ESukpX1jymTm"
      }
    },
    {
      "cell_type": "markdown",
      "source": [
        "# Références bibliographiques et sites\n",
        "\n",
        "site\n",
        "\n",
        "https://stackoverflow.com/\n",
        "\n",
        "\n",
        "https://www.developpez.net/forums/d1053348/general-developpement/algorithme-mathematiques/algorithmes-structures-donnees/difference-entre-programmation-contraintes-lineaire/\n",
        "\n",
        "https://web.archive.org/web/20190223194120id_/http://pdfs.semanticscholar.org/4c21/c66631a34e43d63ed4fa418a1d67f795babc.pdf\n",
        "\n",
        "\n",
        "\n",
        "\n"
      ],
      "metadata": {
        "id": "qS7dexcg6ntd"
      }
    }
  ]
}